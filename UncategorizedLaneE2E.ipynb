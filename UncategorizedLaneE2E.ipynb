{
 "cells": [
  {
   "cell_type": "markdown",
   "id": "81b8471c",
   "metadata": {},
   "source": [
    "# E2E Accessibility and Keyboard Navigation Test for UncategorizedLane\n",
    "\n",
    "This notebook develops and validates E2E accessibility and keyboard navigation tests for the UncategorizedLane component using Playwright and axe-core."
   ]
  },
  {
   "cell_type": "markdown",
   "id": "1084e6b9",
   "metadata": {},
   "source": [
    "## 1. Set Up Test Environment\n",
    "Configure the environment for E2E accessibility testing, including installing dependencies and setting up the test runner."
   ]
  },
  {
   "cell_type": "code",
   "execution_count": null,
   "id": "7812be9c",
   "metadata": {},
   "outputs": [],
   "source": [
    "# Install and import Playwright and axe-core if not already installed\n",
    "# !pip install playwright\n",
    "# !playwright install\n",
    "from playwright.sync_api import sync_playwright\n",
    "import os\n",
    "\n",
    "# Ensure axe-core is available in the browser context\n"
   ]
  },
  {
   "cell_type": "markdown",
   "id": "3b852d9e",
   "metadata": {},
   "source": [
    "## 2. Load UncategorizedLane Component\n",
    "Programmatically load or render the UncategorizedLane component in a testable environment (e.g., Storybook, test page, or local dev server)."
   ]
  },
  {
   "cell_type": "code",
   "execution_count": null,
   "id": "176fcacf",
   "metadata": {},
   "outputs": [],
   "source": [
    "# Set up Playwright browser and context\n",
    "playwright = sync_playwright().start()\n",
    "browser = playwright.chromium.launch(headless=True)\n",
    "context = browser.new_context()\n",
    "page = context.new_page()\n",
    "\n",
    "# Navigate to a page where UncategorizedLane is rendered (adjust path as needed)\n",
    "BASE_URL = os.getenv(\"EBOOKREADER_BASE_URL\", \"http://localhost:5173\")\n",
    "UNCATEGORIZED_LANE_PATH = \"/storybook/?path=/story/components-uncategorizedlane--default\"  # Example for Storybook\n",
    "page.goto(f\"{BASE_URL}{UNCATEGORIZED_LANE_PATH}\")\n",
    "page.wait_for_selector('[role=\"region\"][aria-label*=\"Other Books\"]')"
   ]
  },
  {
   "cell_type": "markdown",
   "id": "118139e8",
   "metadata": {},
   "source": [
    "## 3. Configure E2E Accessibility Test Environment\n",
    "Initialize axe-core in the browser context and prepare for accessibility scanning."
   ]
  },
  {
   "cell_type": "code",
   "execution_count": null,
   "id": "1e4c22da",
   "metadata": {},
   "outputs": [],
   "source": [
    "# Inject axe-core into the page for accessibility scanning\n",
    "axe_path = os.path.join(os.getcwd(), 'node_modules', 'axe-core', 'axe.min.js')\n",
    "with open(axe_path, 'r') as axe_file:\n",
    "    axe_source = axe_file.read()\n",
    "page.add_init_script(axe_source)\n"
   ]
  },
  {
   "cell_type": "markdown",
   "id": "6beda763",
   "metadata": {},
   "source": [
    "## 4. Write Accessibility Test Cases for UncategorizedLane\n",
    "Create automated test cases to check accessibility compliance for the UncategorizedLane component using axe-core and Playwright."
   ]
  },
  {
   "cell_type": "code",
   "execution_count": null,
   "id": "33903521",
   "metadata": {},
   "outputs": [],
   "source": [
    "# Run axe-core accessibility scan on the UncategorizedLane region\n",
    "results = page.evaluate(\"\"\"\n",
    "    async () => {\n",
    "        return await window.axe.run(document.querySelector('[role=\\\"region\\\"][aria-label*=\\\"Other Books\\\"]'));\n",
    "    }\n",
    "\"\"\")\n",
    "violations = results['violations']\n",
    "assert len(violations) == 0, f\"Accessibility violations found: {violations}\""
   ]
  },
  {
   "cell_type": "markdown",
   "id": "9e3ec071",
   "metadata": {},
   "source": [
    "## 5. Run E2E Accessibility Tests\n",
    "Execute the accessibility test cases and collect results for the UncategorizedLane component."
   ]
  },
  {
   "cell_type": "code",
   "execution_count": null,
   "id": "a41a2db4",
   "metadata": {},
   "outputs": [],
   "source": [
    "# Output the results of the accessibility test\n",
    "if len(violations) == 0:\n",
    "    print(\"UncategorizedLane passed all accessibility checks!\")\n",
    "else:\n",
    "    for v in violations:\n",
    "        print(f\"Violation: {v['id']} - {v['description']}\")\n",
    "        print(f\"Impact: {v['impact']}\")\n",
    "        print(f\"Nodes: {v['nodes']}\")"
   ]
  },
  {
   "cell_type": "markdown",
   "id": "25529c8d",
   "metadata": {},
   "source": [
    "## 6. Analyze and Output Accessibility Results\n",
    "Display the output of the accessibility tests, highlighting any issues found and suggesting remediations if needed."
   ]
  }
 ],
 "metadata": {
  "language_info": {
   "name": "python"
  }
 },
 "nbformat": 4,
 "nbformat_minor": 5
}
