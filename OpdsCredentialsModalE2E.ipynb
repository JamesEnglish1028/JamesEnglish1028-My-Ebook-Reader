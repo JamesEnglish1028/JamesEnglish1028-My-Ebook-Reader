{
 "cells": [
  {
   "cell_type": "markdown",
   "id": "bf476b6b",
   "metadata": {},
   "source": [
    "# OpdsCredentialsModal E2E Accessibility Test\n",
    "\n",
    "This notebook uses Playwright and axe-core to perform an end-to-end accessibility audit of the OpdsCredentialsModal component."
   ]
  },
  {
   "cell_type": "markdown",
   "id": "53c4e076",
   "metadata": {},
   "source": [
    "## 1. Set Up Test Environment\n",
    "\n",
    "Install and import Playwright and axe-core for E2E and accessibility testing."
   ]
  },
  {
   "cell_type": "code",
   "execution_count": null,
   "id": "5138b778",
   "metadata": {},
   "outputs": [],
   "source": [
    "# Install Playwright and axe-core if not already installed\n",
    "!pip install playwright\n",
    "!playwright install\n",
    "!pip install axe-selenium-python"
   ]
  },
  {
   "cell_type": "markdown",
   "id": "03a12b9b",
   "metadata": {},
   "source": [
    "## 2. Render OpdsCredentialsModal Component\n",
    "\n",
    "This cell launches the app and opens the OpdsCredentialsModal. Ensure your app has a button with `data-testid=\"open-opds-credentials-modal\"` for test automation."
   ]
  },
  {
   "cell_type": "code",
   "execution_count": null,
   "id": "7336fd28",
   "metadata": {},
   "outputs": [],
   "source": [
    "from playwright.sync_api import sync_playwright\n",
    "APP_URL = \"http://localhost:3000\"  # Update if your dev server runs elsewhere\n",
    "\n",
    "def open_opds_credentials_modal():\n",
    "    with sync_playwright() as p:\n",
    "        browser = p.chromium.launch(headless=True)\n",
    "        page = browser.new_page()\n",
    "        page.goto(APP_URL)\n",
    "        # Trigger the OpdsCredentialsModal (ensure a button with this test id exists in your app)\n",
    "        page.click('[data-testid=\"open-opds-credentials-modal\"]')\n",
    "        return browser, page\n",
    "\n",
    "browser, page = open_opds_credentials_modal()\n",
    "print(\"OpdsCredentialsModal opened.\")"
   ]
  },
  {
   "cell_type": "markdown",
   "id": "87eee6cc",
   "metadata": {},
   "source": [
    "## 3. Simulate User Interactions\n",
    "\n",
    "This cell automates keyboard navigation, form filling, and other interactions to ensure the modal is accessible via keyboard and screen readers."
   ]
  },
  {
   "cell_type": "code",
   "execution_count": null,
   "id": "6b706419",
   "metadata": {},
   "outputs": [],
   "source": [
    "# Tab through all focusable elements in the modal and print their accessible names\n",
    "dialog = page.get_by_role('dialog')\n",
    "focusable = dialog.query_selector_all('button, [href], input, select, textarea, [tabindex]:not([tabindex=\"-1\"])')\n",
    "assert len(focusable) > 0, \"There should be at least one focusable element in the OpdsCredentialsModal\"\n",
    "\n",
    "for i, el in enumerate(focusable):\n",
    "    if i == 0:\n",
    "        # First element should be focused initially\n",
    "        assert page.evaluate('document.activeElement === arguments[0]', el), f\"Element {i} should be focused initially\"\n",
    "    else:\n",
    "        page.keyboard.press('Tab')\n",
    "        assert page.evaluate('document.activeElement === arguments[0]', el), f\"Element {i} should be focused after Tab\"\n",
    "    print(f\"Tab {i}:\", el.inner_text())"
   ]
  },
  {
   "cell_type": "markdown",
   "id": "a325d4f6",
   "metadata": {},
   "source": [
    "## 4. Run Accessibility Audit\n",
    "\n",
    "This cell integrates axe-core to scan the rendered modal for accessibility violations."
   ]
  },
  {
   "cell_type": "code",
   "execution_count": null,
   "id": "6e6eb2aa",
   "metadata": {},
   "outputs": [],
   "source": [
    "# Inject and run axe-core for accessibility analysis\n",
    "import requests\n",
    "axe_url = \"https://cdnjs.cloudflare.com/ajax/libs/axe-core/4.7.2/axe.min.js\"\n",
    "axe_script = requests.get(axe_url).text\n",
    "page.add_script_tag(content=axe_script)\n",
    "results = page.evaluate(\"async () => await axe.run(document.querySelector('[role=dialog]'))\")\n",
    "violations = results['violations']\n",
    "if violations:\n",
    "    print(\"Axe-core found accessibility violations:\")\n",
    "    for v in violations:\n",
    "        print(f\"- {v['id']}: {v['description']}\")\n",
    "else:\n",
    "    print(\"No accessibility violations found by axe-core.\")"
   ]
  },
  {
   "cell_type": "markdown",
   "id": "1d75048b",
   "metadata": {},
   "source": [
    "## 5. Assert Accessibility Compliance\n",
    "\n",
    "This cell checks the audit results and asserts that there are no critical accessibility issues. Results are output below."
   ]
  },
  {
   "cell_type": "code",
   "execution_count": null,
   "id": "ed9b0402",
   "metadata": {},
   "outputs": [],
   "source": [
    "# Assert no critical accessibility violations\n",
    "critical_violations = [v for v in violations if v['impact'] == 'critical']\n",
    "if critical_violations:\n",
    "    print(\"Critical accessibility violations found:\")\n",
    "    for v in critical_violations:\n",
    "        print(f\"- {v['id']}: {v['description']}\")\n",
    "    raise AssertionError(\"Critical accessibility violations detected!\")\n",
    "else:\n",
    "    print(\"No critical accessibility violations detected. Accessibility test passed.\")\n",
    "browser.close()"
   ]
  }
 ],
 "metadata": {
  "language_info": {
   "name": "python"
  }
 },
 "nbformat": 4,
 "nbformat_minor": 5
}
