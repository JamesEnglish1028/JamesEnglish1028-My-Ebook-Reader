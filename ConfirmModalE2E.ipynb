{
 "cells": [
  {
   "cell_type": "markdown",
   "id": "3e833a3c",
   "metadata": {},
   "source": [
    "# Investigate ConfirmModal Accessibility with E2E Test\n",
    "\n",
    "This notebook demonstrates how to use Playwright for end-to-end (E2E) accessibility testing of the ConfirmModal component in a React application."
   ]
  },
  {
   "cell_type": "markdown",
   "id": "d7b5393d",
   "metadata": {},
   "source": [
    "## 1. Set Up E2E Testing Environment\n",
    "\n",
    "Install and import Playwright for browser-based E2E testing. This will allow us to automate browser interactions and verify accessibility and keyboard navigation."
   ]
  },
  {
   "cell_type": "code",
   "execution_count": null,
   "id": "2df4aaa7",
   "metadata": {},
   "outputs": [],
   "source": [
    "# Install Playwright if not already installed\n",
    "!pip install playwright\n",
    "!playwright install"
   ]
  },
  {
   "cell_type": "markdown",
   "id": "7f41613a",
   "metadata": {},
   "source": [
    "## 2. Write a Basic E2E Test\n",
    "\n",
    "Create a Playwright script to:\n",
    "- Open the app to a page with the ConfirmModal\n",
    "- Trigger the modal to open\n",
    "- Check for role=\"dialog\" and heading\n",
    "- Tab through Cancel, Confirm, and Close buttons, verifying focus order"
   ]
  },
  {
   "cell_type": "code",
   "execution_count": null,
   "id": "98cd9752",
   "metadata": {},
   "outputs": [],
   "source": [
    "from playwright.sync_api import sync_playwright\n",
    "\n",
    "# Path to your running app (adjust as needed)\n",
    "APP_URL = \"http://localhost:3000\"  # Change if your dev server runs elsewhere\n",
    "\n",
    "# This test assumes a test page or route that can open ConfirmModal directly\n",
    "# If not, you may need to add a test route/component for E2E\n",
    "\n",
    "def test_confirm_modal_accessibility():\n",
    "    with sync_playwright() as p:\n",
    "        browser = p.chromium.launch(headless=True)\n",
    "        page = browser.new_page()\n",
    "        page.goto(APP_URL)\n",
    "\n",
    "        # TODO: Trigger the ConfirmModal to open (adjust selector as needed)\n",
    "        page.click('[data-testid=\"open-confirm-modal\"]')\n",
    "\n",
    "        # Check for dialog role\n",
    "        dialog = page.get_by_role('dialog')\n",
    "        assert dialog.is_visible(), \"Dialog should be visible\"\n",
    "\n",
    "        # Check for heading\n",
    "        heading = page.get_by_role('heading', name=\"Delete Item\")\n",
    "        assert heading.is_visible(), \"Heading should be visible\"\n",
    "\n",
    "        # Tab to Cancel button (should be focused first)\n",
    "        cancel_btn = page.get_by_role('button', name=\"Cancel\")\n",
    "        assert page.evaluate('document.activeElement === arguments[0]', cancel_btn), \"Cancel button should be focused initially\"\n",
    "\n",
    "        # Tab to Confirm button\n",
    "        page.keyboard.press('Tab')\n",
    "        confirm_btn = page.get_by_role('button', name=\"Delete\")\n",
    "        assert page.evaluate('document.activeElement === arguments[0]', confirm_btn), \"Confirm button should be focused after Tab\"\n",
    "\n",
    "        # Tab to Close button\n",
    "        page.keyboard.press('Tab')\n",
    "        close_btn = page.get_by_role('button', name=\"Close\")\n",
    "        assert page.evaluate('document.activeElement === arguments[0]', close_btn), \"Close button should be focused after second Tab\"\n",
    "\n",
    "        browser.close()\n",
    "\n",
    "# Run the test\n",
    "test_confirm_modal_accessibility()\n",
    "print(\"E2E accessibility test completed.\")"
   ]
  },
  {
   "cell_type": "markdown",
   "id": "c6d57b2d",
   "metadata": {},
   "source": [
    "## 3. Run E2E Tests and Capture Output\n",
    "\n",
    "Execute the Playwright E2E test and capture the output below."
   ]
  }
 ],
 "metadata": {
  "language_info": {
   "name": "python"
  }
 },
 "nbformat": 4,
 "nbformat_minor": 5
}
