{
 "cells": [
  {
   "cell_type": "markdown",
   "id": "661e1d24",
   "metadata": {},
   "source": [
    "# E2E Accessibility and Keyboard Navigation Test for SettingsPanel\n",
    "\n",
    "This notebook develops and validates E2E accessibility and keyboard navigation tests for the SettingsPanel component using Playwright and axe-core."
   ]
  },
  {
   "cell_type": "markdown",
   "id": "06aeba30",
   "metadata": {},
   "source": [
    "## 1. Import Required Libraries\n",
    "Import Playwright for browser automation and axe-core for accessibility auditing."
   ]
  },
  {
   "cell_type": "code",
   "execution_count": null,
   "id": "668df1b9",
   "metadata": {},
   "outputs": [],
   "source": [
    "# Install and import Playwright and axe-core if not already installed\n",
    "# !pip install playwright\n",
    "# !playwright install\n",
    "from playwright.sync_api import sync_playwright\n",
    "import os\n",
    "\n",
    "# Ensure axe-core is available in the browser context\n"
   ]
  },
  {
   "cell_type": "markdown",
   "id": "ca53b071",
   "metadata": {},
   "source": [
    "## 2. Load SettingsPanel Component\n",
    "Programmatically load or render the SettingsPanel component in a testable environment (e.g., Storybook, test page, or local dev server)."
   ]
  },
  {
   "cell_type": "code",
   "execution_count": null,
   "id": "ed2d2ea1",
   "metadata": {},
   "outputs": [],
   "source": [
    "# Set up Playwright browser and context\n",
    "playwright = sync_playwright().start()\n",
    "browser = playwright.chromium.launch(headless=True)\n",
    "context = browser.new_context()\n",
    "page = context.new_page()\n",
    "\n",
    "# Navigate to a page where SettingsPanel is rendered (adjust path as needed)\n",
    "BASE_URL = os.getenv(\"EBOOKREADER_BASE_URL\", \"http://localhost:5173\")\n",
    "SETTINGSPANEL_PATH = \"/storybook/?path=/story/components-settingspanel--default\"  # Example for Storybook\n",
    "page.goto(f\"{BASE_URL}{SETTINGSPANEL_PATH}\")\n",
    "page.wait_for_selector('[role=\"dialog\"][aria-label*=\"settings\"]')"
   ]
  },
  {
   "cell_type": "markdown",
   "id": "73306453",
   "metadata": {},
   "source": [
    "## 3. Configure E2E Accessibility Test Environment\n",
    "Initialize axe-core in the browser context and prepare for accessibility scanning."
   ]
  },
  {
   "cell_type": "code",
   "execution_count": null,
   "id": "ec8e13d4",
   "metadata": {},
   "outputs": [],
   "source": [
    "# Inject axe-core into the page for accessibility scanning\n",
    "axe_path = os.path.join(os.getcwd(), 'node_modules', 'axe-core', 'axe.min.js')\n",
    "with open(axe_path, 'r') as axe_file:\n",
    "    axe_source = axe_file.read()\n",
    "page.add_init_script(axe_source)\n"
   ]
  },
  {
   "cell_type": "markdown",
   "id": "f0efb017",
   "metadata": {},
   "source": [
    "## 4. Write Accessibility Test Cases for SettingsPanel\n",
    "Create automated test cases to check accessibility compliance for the SettingsPanel component using axe-core and Playwright."
   ]
  },
  {
   "cell_type": "code",
   "execution_count": null,
   "id": "064018e0",
   "metadata": {},
   "outputs": [],
   "source": [
    "# Run axe-core accessibility scan on the SettingsPanel dialog\n",
    "results = page.evaluate(\"\"\"\n",
    "    async () => {\n",
    "        return await window.axe.run(document.querySelector('[role=\\\"dialog\\\"][aria-label*=\\\"settings\\\"]'));\n",
    "    }\n",
    "\"\"\")\n",
    "violations = results['violations']\n",
    "assert len(violations) == 0, f\"Accessibility violations found: {violations}\""
   ]
  },
  {
   "cell_type": "markdown",
   "id": "a3f75e8e",
   "metadata": {},
   "source": [
    "## 5. Run E2E Accessibility Tests\n",
    "Execute the accessibility test cases and collect results for the SettingsPanel component."
   ]
  },
  {
   "cell_type": "code",
   "execution_count": null,
   "id": "5e3edb48",
   "metadata": {},
   "outputs": [],
   "source": [
    "# Output the results of the accessibility test\n",
    "if len(violations) == 0:\n",
    "    print(\"SettingsPanel passed all accessibility checks!\")\n",
    "else:\n",
    "    for v in violations:\n",
    "        print(f\"Violation: {v['id']} - {v['description']}\")\n",
    "        print(f\"Impact: {v['impact']}\")\n",
    "        print(f\"Nodes: {v['nodes']}\")"
   ]
  },
  {
   "cell_type": "markdown",
   "id": "32e0ed7a",
   "metadata": {},
   "source": [
    "## 6. Analyze and Output Accessibility Results\n",
    "Display the output of the accessibility tests, highlighting any issues found and suggesting remediations if needed."
   ]
  }
 ],
 "metadata": {
  "language_info": {
   "name": "python"
  }
 },
 "nbformat": 4,
 "nbformat_minor": 5
}
