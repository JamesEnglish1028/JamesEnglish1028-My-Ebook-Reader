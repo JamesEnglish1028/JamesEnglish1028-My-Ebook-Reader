{
 "cells": [
  {
   "cell_type": "markdown",
   "id": "58ea8039",
   "metadata": {},
   "source": [
    "# E2E Accessibility and Keyboard Navigation Test for BookCard\n",
    "\n",
    "This notebook develops and validates E2E accessibility and keyboard navigation tests for the BookCard component using Playwright and axe-core."
   ]
  },
  {
   "cell_type": "markdown",
   "id": "686c8654",
   "metadata": {},
   "source": [
    "## 1. Set Up Test Environment\n",
    "Configure the environment for E2E accessibility testing, including installing dependencies and setting up the test runner."
   ]
  },
  {
   "cell_type": "code",
   "execution_count": null,
   "id": "727d040f",
   "metadata": {},
   "outputs": [],
   "source": [
    "# Install and import Playwright and axe-core if not already installed\n",
    "# !pip install playwright\n",
    "# !playwright install\n",
    "from playwright.sync_api import sync_playwright\n",
    "import os\n",
    "\n",
    "# Ensure axe-core is available in the browser context\n"
   ]
  },
  {
   "cell_type": "markdown",
   "id": "efbd204b",
   "metadata": {},
   "source": [
    "## 2. Load BookCard Component\n",
    "Programmatically load or render the BookCard component in a testable environment (e.g., Storybook, test page, or local dev server)."
   ]
  },
  {
   "cell_type": "markdown",
   "id": "ab76a162",
   "metadata": {},
   "source": [
    "## 2. Load BookCard Component\n",
    "Programmatically load or render the BookCard component in a testable environment (e.g., Storybook, test page, or local dev server)."
   ]
  },
  {
   "cell_type": "code",
   "execution_count": null,
   "id": "de24f0aa",
   "metadata": {},
   "outputs": [],
   "source": [
    "# Set up Playwright browser and context\n",
    "playwright = sync_playwright().start()\n",
    "browser = playwright.chromium.launch(headless=True)\n",
    "context = browser.new_context()\n",
    "page = context.new_page()\n",
    "\n",
    "# Navigate to a page where BookCard is rendered (adjust path as needed)\n",
    "BASE_URL = os.getenv(\"EBOOKREADER_BASE_URL\", \"http://localhost:5173\")\n",
    "BOOKCARD_PATH = \"/storybook/?path=/story/components-bookcard--default\"  # Example for Storybook\n",
    "page.goto(f\"{BASE_URL}{BOOKCARD_PATH}\")\n",
    "page.wait_for_selector('[role=\"group\"][aria-label*=\"book card\"]')"
   ]
  },
  {
   "cell_type": "markdown",
   "id": "5921b49f",
   "metadata": {},
   "source": [
    "## 3. Configure E2E Accessibility Test Environment\n",
    "Initialize axe-core in the browser context and prepare for accessibility scanning."
   ]
  },
  {
   "cell_type": "code",
   "execution_count": null,
   "id": "b029c0d9",
   "metadata": {},
   "outputs": [],
   "source": [
    "# Inject axe-core into the page for accessibility scanning\n",
    "axe_path = os.path.join(os.getcwd(), 'node_modules', 'axe-core', 'axe.min.js')\n",
    "with open(axe_path, 'r') as axe_file:\n",
    "    axe_source = axe_file.read()\n",
    "page.add_init_script(axe_source)\n"
   ]
  },
  {
   "cell_type": "markdown",
   "id": "1f5f4211",
   "metadata": {},
   "source": [
    "## 4. Write Accessibility Test Cases for BookCard\n",
    "Create automated test cases to check accessibility compliance for the BookCard component using axe-core and Playwright."
   ]
  },
  {
   "cell_type": "code",
   "execution_count": null,
   "id": "49362324",
   "metadata": {},
   "outputs": [],
   "source": [
    "# Run axe-core accessibility scan on the BookCard region\n",
    "results = page.evaluate(\"\"\"\n",
    "    async () => {\n",
    "        return await window.axe.run(document.querySelector('[role=\\\"group\\\"][aria-label*=\\\"book card\\\"]'));\n",
    "    }\n",
    "\"\"\")\n",
    "violations = results['violations']\n",
    "assert len(violations) == 0, f\"Accessibility violations found: {violations}\""
   ]
  },
  {
   "cell_type": "markdown",
   "id": "de6989da",
   "metadata": {},
   "source": [
    "## 5. Run E2E Accessibility Tests\n",
    "Execute the accessibility test cases and collect results for the BookCard component."
   ]
  },
  {
   "cell_type": "code",
   "execution_count": null,
   "id": "44ba4574",
   "metadata": {},
   "outputs": [],
   "source": [
    "# Output the results of the accessibility test\n",
    "if len(violations) == 0:\n",
    "    print(\"BookCard passed all accessibility checks!\")\n",
    "else:\n",
    "    for v in violations:\n",
    "        print(f\"Violation: {v['id']} - {v['description']}\")\n",
    "        print(f\"Impact: {v['impact']}\")\n",
    "        print(f\"Nodes: {v['nodes']}\")"
   ]
  },
  {
   "cell_type": "markdown",
   "id": "7c418b23",
   "metadata": {},
   "source": [
    "## 6. Analyze and Output Accessibility Results\n",
    "Display the output of the accessibility tests, highlighting any issues found and suggesting remediations if needed."
   ]
  }
 ],
 "metadata": {
  "language_info": {
   "name": "python"
  }
 },
 "nbformat": 4,
 "nbformat_minor": 5
}
