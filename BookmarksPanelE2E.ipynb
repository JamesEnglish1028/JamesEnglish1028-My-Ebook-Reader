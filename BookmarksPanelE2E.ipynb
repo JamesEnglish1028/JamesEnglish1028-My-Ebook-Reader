{
 "cells": [
  {
   "cell_type": "markdown",
   "id": "da0693ab",
   "metadata": {},
   "source": [
    "# BookmarksPanel E2E Accessibility Test\n",
    "\n",
    "This notebook demonstrates how to use Playwright for end-to-end (E2E) accessibility testing of the BookmarksPanel component in your React application."
   ]
  },
  {
   "cell_type": "code",
   "execution_count": null,
   "id": "df596070",
   "metadata": {},
   "outputs": [],
   "source": [
    "# 1. Import Required Libraries\n",
    "import sys"
   ]
  },
  {
   "cell_type": "code",
   "execution_count": null,
   "id": "807dd41e",
   "metadata": {},
   "outputs": [],
   "source": [
    "# 2. Prompt User for Confirmation\n",
    "response = input('Do you want to run the BookmarksPanel E2E accessibility test? (yes/no): ').strip().lower()"
   ]
  },
  {
   "cell_type": "code",
   "execution_count": null,
   "id": "987a3934",
   "metadata": {},
   "outputs": [],
   "source": [
    "# 3. Display Confirmation Message\n",
    "if response == 'yes':\n",
    "    print('Proceeding with BookmarksPanel E2E accessibility test...')\n",
    "    # Here you would insert the Playwright E2E test code for BookmarksPanel\n",
    "else:\n",
    "    print('Test cancelled by user.')"
   ]
  },
  {
   "cell_type": "markdown",
   "id": "0dead4fb",
   "metadata": {},
   "source": [
    "## 4. Run BookmarksPanel E2E Accessibility Test\n",
    "\n",
    "This cell will run a Playwright E2E test to:\n",
    "- Open the app\n",
    "- Trigger the BookmarksPanel (ensure a button with `data-testid=\"open-bookmarks-panel\"` exists)\n",
    "- Check for role=\"dialog\" and heading\n",
    "- Tab through all focusable elements to verify focus order and keyboard navigation"
   ]
  },
  {
   "cell_type": "code",
   "execution_count": null,
   "id": "cff434f5",
   "metadata": {},
   "outputs": [],
   "source": [
    "from playwright.sync_api import sync_playwright\n",
    "\n",
    "APP_URL = \"http://localhost:3000\"  # Update if your dev server runs elsewhere\n",
    "\n",
    "def test_bookmarks_panel_accessibility():\n",
    "    with sync_playwright() as p:\n",
    "        browser = p.chromium.launch(headless=True)\n",
    "        page = browser.new_page()\n",
    "        page.goto(APP_URL)\n",
    "\n",
    "        # Trigger the BookmarksPanel (ensure a button with this test id exists in your app)\n",
    "        page.click('[data-testid=\"open-bookmarks-panel\"]')\n",
    "\n",
    "        # Check for dialog role\n",
    "        dialog = page.get_by_role('dialog')\n",
    "        assert dialog.is_visible(), \"Dialog should be visible\"\n",
    "\n",
    "        # Check for heading\n",
    "        heading = page.get_by_role('heading', name=\"Bookmarks\")\n",
    "        assert heading.is_visible(), \"Heading should be visible\"\n",
    "\n",
    "        # Get all focusable elements in the dialog\n",
    "        focusable = dialog.query_selector_all('button, [href], input, select, textarea, [tabindex]:not([tabindex=\"-1\"])')\n",
    "        assert len(focusable) > 0, \"There should be at least one focusable element in the BookmarksPanel\"\n",
    "\n",
    "        # Tab through all focusable elements and check focus order\n",
    "        for i, el in enumerate(focusable):\n",
    "            if i == 0:\n",
    "                # First element should be focused initially\n",
    "                assert page.evaluate('document.activeElement === arguments[0]', el), f\"Element {i} should be focused initially\"\n",
    "            else:\n",
    "                page.keyboard.press('Tab')\n",
    "                assert page.evaluate('document.activeElement === arguments[0]', el), f\"Element {i} should be focused after Tab\"\n",
    "\n",
    "        browser.close()\n",
    "\n",
    "# Only run if user confirmed\n",
    "def run_if_confirmed():\n",
    "    if 'response' in globals() and response == 'yes':\n",
    "        test_bookmarks_panel_accessibility()\n",
    "        print(\"BookmarksPanel E2E accessibility test completed.\")\n",
    "    else:\n",
    "        print(\"Test not run.\")\n",
    "\n",
    "run_if_confirmed()"
   ]
  }
 ],
 "metadata": {
  "language_info": {
   "name": "python"
  }
 },
 "nbformat": 4,
 "nbformat_minor": 5
}
