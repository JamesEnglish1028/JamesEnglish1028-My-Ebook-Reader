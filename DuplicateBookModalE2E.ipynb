{
 "cells": [
  {
   "cell_type": "markdown",
   "id": "9cda193f",
   "metadata": {},
   "source": [
    "# DuplicateBookModal E2E Accessibility Test\n",
    "\n",
    "This notebook uses Playwright and axe-core to perform an end-to-end accessibility audit of the DuplicateBookModal component."
   ]
  },
  {
   "cell_type": "markdown",
   "id": "10792fc1",
   "metadata": {},
   "source": [
    "## 1. Import Required Libraries and Setup\n",
    "\n",
    "Install and import Playwright and axe-core for E2E and accessibility testing."
   ]
  },
  {
   "cell_type": "code",
   "execution_count": null,
   "id": "6ddc9dfc",
   "metadata": {},
   "outputs": [],
   "source": [
    "# Install Playwright and axe-core if not already installed\n",
    "!pip install playwright\n",
    "!playwright install\n",
    "!pip install axe-selenium-python"
   ]
  },
  {
   "cell_type": "markdown",
   "id": "096d6e36",
   "metadata": {},
   "source": [
    "## 2. Launch Application and Navigate to DuplicateBookModal\n",
    "\n",
    "This cell launches the app and navigates to a state where the DuplicateBookModal is visible. Ensure your app has a button with `data-testid=\"open-duplicate-book-modal\"` for test automation."
   ]
  },
  {
   "cell_type": "code",
   "execution_count": null,
   "id": "92297de8",
   "metadata": {},
   "outputs": [],
   "source": [
    "from playwright.sync_api import sync_playwright\n",
    "APP_URL = \"http://localhost:3000\"  # Update if your dev server runs elsewhere\n",
    "\n",
    "def open_duplicate_book_modal():\n",
    "    with sync_playwright() as p:\n",
    "        browser = p.chromium.launch(headless=True)\n",
    "        page = browser.new_page()\n",
    "        page.goto(APP_URL)\n",
    "        # Trigger the DuplicateBookModal (ensure a button with this test id exists in your app)\n",
    "        page.click('[data-testid=\"open-duplicate-book-modal\"]')\n",
    "        return browser, page\n",
    "\n",
    "browser, page = open_duplicate_book_modal()\n",
    "print(\"DuplicateBookModal opened.\")"
   ]
  },
  {
   "cell_type": "markdown",
   "id": "260890fb",
   "metadata": {},
   "source": [
    "## 3. Interact with DuplicateBookModal Using Keyboard Navigation\n",
    "\n",
    "This cell simulates keyboard navigation (Tab, Shift+Tab, Enter, Escape) to ensure all interactive elements are accessible."
   ]
  },
  {
   "cell_type": "code",
   "execution_count": null,
   "id": "a164e6b8",
   "metadata": {},
   "outputs": [],
   "source": [
    "# Tab through all focusable elements in the modal and print their accessible names\n",
    "dialog = page.get_by_role('dialog')\n",
    "focusable = dialog.query_selector_all('button, [href], input, select, textarea, [tabindex]:not([tabindex=\"-1\"])')\n",
    "assert len(focusable) > 0, \"There should be at least one focusable element in the DuplicateBookModal\"\n",
    "\n",
    "for i, el in enumerate(focusable):\n",
    "    if i == 0:\n",
    "        # First element should be focused initially\n",
    "        assert page.evaluate('document.activeElement === arguments[0]', el), f\"Element {i} should be focused initially\"\n",
    "    else:\n",
    "        page.keyboard.press('Tab')\n",
    "        assert page.evaluate('document.activeElement === arguments[0]', el), f\"Element {i} should be focused after Tab\"\n",
    "    print(f\"Tab {i}:\", el.inner_text())"
   ]
  },
  {
   "cell_type": "markdown",
   "id": "7e36aa4d",
   "metadata": {},
   "source": [
    "## 4. Verify ARIA Attributes and Roles\n",
    "\n",
    "This cell checks that the modal and its elements have correct ARIA roles, labels, and properties for accessibility."
   ]
  },
  {
   "cell_type": "code",
   "execution_count": null,
   "id": "c67e42b5",
   "metadata": {},
   "outputs": [],
   "source": [
    "# Check ARIA roles and labels\n",
    "assert dialog.get_attribute('role') == 'dialog', \"Dialog should have role='dialog'\"\n",
    "assert dialog.get_attribute('aria-modal') == 'true', \"Dialog should have aria-modal='true'\"\n",
    "heading = dialog.query_selector('h2')\n",
    "assert heading is not None and 'Duplicate Book Found' in heading.inner_text(), \"Heading should be present and correct\"\n",
    "close_btn = dialog.query_selector('button[aria-label=\"Close\"]')\n",
    "assert close_btn is not None, \"Close button with aria-label should be present\""
   ]
  },
  {
   "cell_type": "markdown",
   "id": "9897b46f",
   "metadata": {},
   "source": [
    "## 5. Test Screen Reader Output\n",
    "\n",
    "This cell uses axe-core to check that screen readers announce the modal and its content appropriately."
   ]
  },
  {
   "cell_type": "code",
   "execution_count": null,
   "id": "a8fcf1af",
   "metadata": {},
   "outputs": [],
   "source": [
    "# Inject and run axe-core for accessibility analysis\n",
    "import requests\n",
    "axe_url = \"https://cdnjs.cloudflare.com/ajax/libs/axe-core/4.7.2/axe.min.js\"\n",
    "axe_script = requests.get(axe_url).text\n",
    "page.add_script_tag(content=axe_script)\n",
    "results = page.evaluate(\"async () => await axe.run(document.querySelector('[role=dialog]'))\")\n",
    "violations = results['violations']\n",
    "if violations:\n",
    "    print(\"Axe-core found accessibility violations:\")\n",
    "    for v in violations:\n",
    "        print(f\"- {v['id']}: {v['description']}\")\n",
    "else:\n",
    "    print(\"No accessibility violations found by axe-core.\")"
   ]
  },
  {
   "cell_type": "markdown",
   "id": "becf3e34",
   "metadata": {},
   "source": [
    "## 6. Check Focus Management and Trap\n",
    "\n",
    "This cell ensures that focus is trapped within the modal and returns to the triggering element when the modal closes."
   ]
  },
  {
   "cell_type": "code",
   "execution_count": null,
   "id": "4cd226f0",
   "metadata": {},
   "outputs": [],
   "source": [
    "# Tab past the last focusable element and ensure focus wraps to the first\n",
    "page.keyboard.press('Tab')\n",
    "first_focusable = focusable[0]\n",
    "assert page.evaluate('document.activeElement === arguments[0]', first_focusable), \"Focus should wrap to first element after last\"\n",
    "# Close the modal and check focus returns to trigger\n",
    "page.keyboard.press('Escape')\n",
    "trigger = page.query_selector('[data-testid=\"open-duplicate-book-modal\"]')\n",
    "assert page.evaluate('document.activeElement === arguments[0]', trigger), \"Focus should return to trigger after modal closes\""
   ]
  },
  {
   "cell_type": "markdown",
   "id": "7a560547",
   "metadata": {},
   "source": [
    "## 7. Validate Color Contrast and Visual Accessibility\n",
    "\n",
    "This cell checks that text and interactive elements meet WCAG color contrast requirements using axe-core."
   ]
  },
  {
   "cell_type": "code",
   "execution_count": null,
   "id": "bcdeedfa",
   "metadata": {},
   "outputs": [],
   "source": [
    "# Check for color contrast issues using axe-core results\n",
    "contrast_violations = [v for v in violations if v['id'] == 'color-contrast']\n",
    "if contrast_violations:\n",
    "    print(\"Color contrast issues found:\")\n",
    "    for v in contrast_violations:\n",
    "        print(f\"- {v['description']}\")\n",
    "else:\n",
    "    print(\"No color contrast issues found.\")"
   ]
  },
  {
   "cell_type": "markdown",
   "id": "3ba49f77",
   "metadata": {},
   "source": [
    "## 8. Automate Accessibility Assertions\n",
    "\n",
    "This cell summarizes the results and asserts that there are no critical accessibility violations."
   ]
  },
  {
   "cell_type": "code",
   "execution_count": null,
   "id": "12795554",
   "metadata": {},
   "outputs": [],
   "source": [
    "# Assert no critical accessibility violations\n",
    "critical_violations = [v for v in violations if v['impact'] == 'critical']\n",
    "if critical_violations:\n",
    "    print(\"Critical accessibility violations found:\")\n",
    "    for v in critical_violations:\n",
    "        print(f\"- {v['id']}: {v['description']}\")\n",
    "    raise AssertionError(\"Critical accessibility violations detected!\")\n",
    "else:\n",
    "    print(\"No critical accessibility violations detected. Accessibility test passed.\")\n",
    "browser.close()"
   ]
  }
 ],
 "metadata": {
  "language_info": {
   "name": "python"
  }
 },
 "nbformat": 4,
 "nbformat_minor": 5
}
