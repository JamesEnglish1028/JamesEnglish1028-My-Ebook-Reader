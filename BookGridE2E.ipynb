{
 "cells": [
  {
   "cell_type": "markdown",
   "id": "5cb553dc",
   "metadata": {},
   "source": [
    "# E2E Accessibility and Keyboard Navigation Test for BookGrid\n",
    "\n",
    "This notebook develops and validates E2E accessibility and keyboard navigation tests for the BookGrid component using Playwright and axe-core."
   ]
  },
  {
   "cell_type": "markdown",
   "id": "6b4a54e6",
   "metadata": {},
   "source": [
    "## 1. Set Up Test Environment\n",
    "Configure the environment for E2E accessibility testing, including installing dependencies and setting up the test runner."
   ]
  },
  {
   "cell_type": "code",
   "execution_count": null,
   "id": "ae297e5b",
   "metadata": {},
   "outputs": [],
   "source": [
    "# Install and import Playwright and axe-core if not already installed\n",
    "# !pip install playwright\n",
    "# !playwright install\n",
    "from playwright.sync_api import sync_playwright\n",
    "import os\n",
    "\n",
    "# Ensure axe-core is available in the browser context\n"
   ]
  },
  {
   "cell_type": "markdown",
   "id": "58f4644e",
   "metadata": {},
   "source": [
    "## 2. Load BookGrid Component\n",
    "Programmatically load or render the BookGrid component in a testable environment (e.g., Storybook, test page, or local dev server)."
   ]
  },
  {
   "cell_type": "code",
   "execution_count": null,
   "id": "476f87c3",
   "metadata": {},
   "outputs": [],
   "source": [
    "# Set up Playwright browser and context\n",
    "playwright = sync_playwright().start()\n",
    "browser = playwright.chromium.launch(headless=True)\n",
    "context = browser.new_context()\n",
    "page = context.new_page()\n",
    "\n",
    "# Navigate to a page where BookGrid is rendered (adjust path as needed)\n",
    "BASE_URL = os.getenv(\"EBOOKREADER_BASE_URL\", \"http://localhost:5173\")\n",
    "BOOKGRID_PATH = \"/storybook/?path=/story/components-bookgrid--default\"  # Example for Storybook\n",
    "page.goto(f\"{BASE_URL}{BOOKGRID_PATH}\")\n",
    "page.wait_for_selector('[role=\"grid\"]')"
   ]
  },
  {
   "cell_type": "markdown",
   "id": "e45adaba",
   "metadata": {},
   "source": [
    "## 3. Configure E2E Accessibility Test Environment\n",
    "Initialize axe-core in the browser context and prepare for accessibility scanning."
   ]
  },
  {
   "cell_type": "code",
   "execution_count": null,
   "id": "9ba3e1a0",
   "metadata": {},
   "outputs": [],
   "source": [
    "# Inject axe-core into the page for accessibility scanning\n",
    "axe_path = os.path.join(os.getcwd(), 'node_modules', 'axe-core', 'axe.min.js')\n",
    "with open(axe_path, 'r') as axe_file:\n",
    "    axe_source = axe_file.read()\n",
    "page.add_init_script(axe_source)\n"
   ]
  },
  {
   "cell_type": "markdown",
   "id": "e80609e1",
   "metadata": {},
   "source": [
    "## 4. Write Accessibility Test Cases for BookGrid\n",
    "Create automated test cases to check accessibility compliance for the BookGrid component using axe-core and Playwright."
   ]
  },
  {
   "cell_type": "code",
   "execution_count": null,
   "id": "952a4ec8",
   "metadata": {},
   "outputs": [],
   "source": [
    "# Run axe-core accessibility scan on the BookGrid region\n",
    "results = page.evaluate(\"\"\"\n",
    "    async () => {\n",
    "        return await window.axe.run(document.querySelector('[role=\\\"grid\\\"]'));\n",
    "    }\n",
    "\"\"\")\n",
    "violations = results['violations']\n",
    "assert len(violations) == 0, f\"Accessibility violations found: {violations}\""
   ]
  },
  {
   "cell_type": "markdown",
   "id": "a051ac8a",
   "metadata": {},
   "source": [
    "## 5. Run E2E Accessibility Tests\n",
    "Execute the accessibility test cases and collect results for the BookGrid component."
   ]
  },
  {
   "cell_type": "code",
   "execution_count": null,
   "id": "61196d9b",
   "metadata": {},
   "outputs": [],
   "source": [
    "# Output the results of the accessibility test\n",
    "if len(violations) == 0:\n",
    "    print(\"BookGrid passed all accessibility checks!\")\n",
    "else:\n",
    "    for v in violations:\n",
    "        print(f\"Violation: {v['id']} - {v['description']}\")\n",
    "        print(f\"Impact: {v['impact']}\")\n",
    "        print(f\"Nodes: {v['nodes']}\")"
   ]
  },
  {
   "cell_type": "markdown",
   "id": "3e4bc672",
   "metadata": {},
   "source": [
    "## 6. Analyze and Output Accessibility Results\n",
    "Display the output of the accessibility tests, highlighting any issues found and suggesting remediations if needed."
   ]
  }
 ],
 "metadata": {
  "language_info": {
   "name": "python"
  }
 },
 "nbformat": 4,
 "nbformat_minor": 5
}
