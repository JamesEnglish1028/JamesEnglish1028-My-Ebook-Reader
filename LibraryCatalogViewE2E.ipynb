{
 "cells": [
  {
   "cell_type": "markdown",
   "id": "682e4ce9",
   "metadata": {},
   "source": [
    "# E2E Accessibility and Keyboard Navigation Test for Library/CatalogView\n",
    "\n",
    "This notebook develops and validates comprehensive E2E accessibility and keyboard navigation tests for the main Library/CatalogView, including category lanes, grid view, navigation, focus management, and ARIA compliance using Playwright and axe-core."
   ]
  },
  {
   "cell_type": "markdown",
   "id": "6c303e68",
   "metadata": {},
   "source": [
    "## 1. Import Required Libraries\n",
    "Import Playwright for browser automation and axe-core for accessibility auditing."
   ]
  },
  {
   "cell_type": "code",
   "execution_count": null,
   "id": "b4cf735d",
   "metadata": {},
   "outputs": [],
   "source": [
    "# Import Playwright sync API and axe-core integration\n",
    "from playwright.sync_api import sync_playwright\n",
    "import subprocess\n",
    "import os\n",
    "\n",
    "# Ensure axe-core is available for accessibility checks\n",
    "# (Assumes axe-core/playwright integration is installed in the project)\n"
   ]
  },
  {
   "cell_type": "markdown",
   "id": "9e4aeb98",
   "metadata": {},
   "source": [
    "## 2. Set Up Test Environment\n",
    "\n",
    "Configure Playwright to launch the local development server and set up the browser context for testing. Ensure the app is running at `http://localhost:5173` (or your dev port)."
   ]
  },
  {
   "cell_type": "code",
   "execution_count": null,
   "id": "1dbdc1d9",
   "metadata": {},
   "outputs": [],
   "source": [
    "# Set up Playwright browser and context for E2E tests\n",
    "playwright = sync_playwright().start()\n",
    "browser = playwright.chromium.launch(headless=True)\n",
    "context = browser.new_context()\n",
    "page = context.new_page()\n",
    "\n",
    "# Set the base URL for the app (adjust if needed)\n",
    "BASE_URL = os.getenv(\"EBOOKREADER_BASE_URL\", \"http://localhost:5173\")\n"
   ]
  },
  {
   "cell_type": "markdown",
   "id": "14591225",
   "metadata": {},
   "source": [
    "## 3. Define the Next Component: Library/CatalogView\n",
    "\n",
    "The main Library/CatalogView displays books in category lanes or a grid, with navigation, filters, and focusable controls. We will test both modes and their accessibility."
   ]
  },
  {
   "cell_type": "markdown",
   "id": "9f35d8ee",
   "metadata": {},
   "source": [
    "## 4. Write E2E Test Cases for Library/CatalogView\n",
    "\n",
    "- Open the Library/CatalogView\n",
    "- Test keyboard navigation across category lanes and grid\n",
    "- Check ARIA roles and focus management\n",
    "- Run axe-core accessibility audit\n",
    "- Assert no critical accessibility violations"
   ]
  },
  {
   "cell_type": "code",
   "execution_count": null,
   "id": "b9526b47",
   "metadata": {},
   "outputs": [],
   "source": [
    "# 1. Open the Library/CatalogView\n",
    "page.goto(f\"{BASE_URL}/\")\n",
    "\n",
    "# 2. Wait for main content to load\n",
    "page.wait_for_selector('[role=\"main\"]')\n",
    "\n",
    "# 3. Keyboard navigation: Tab through top-level controls\n",
    "focusable = page.locator('button, [tabindex=\"0\"], a, input, select, textarea')\n",
    "focus_count = focusable.count()\n",
    "assert focus_count > 0, \"No focusable elements found\"\n",
    "\n",
    "# 4. Check ARIA roles for lanes and grid\n",
    "lanes = page.locator('[role=\"region\"][aria-label*=\"lane\"]')\n",
    "grid = page.locator('[role=\"grid\"]')\n",
    "assert lanes.count() > 0 or grid.count() > 0, \"No category lanes or grid found\"\n",
    "\n",
    "# 5. Run axe-core accessibility audit\n",
    "axe_results = page.evaluate(\"async () => await window.axe.run()\")\n",
    "violations = axe_results['violations']\n",
    "critical_violations = [v for v in violations if v['impact'] == 'critical']\n",
    "\n",
    "# 6. Assert no critical accessibility violations\n",
    "assert len(critical_violations) == 0, f\"Critical accessibility violations: {critical_violations}\""
   ]
  },
  {
   "cell_type": "markdown",
   "id": "6de0927a",
   "metadata": {},
   "source": [
    "## 5. Run E2E Tests and Display Results\n",
    "\n",
    "Execute the above test cell. If all assertions pass, the Library/CatalogView meets accessibility and keyboard navigation requirements. Any assertion failure or axe-core violation will be displayed below."
   ]
  }
 ],
 "metadata": {
  "language_info": {
   "name": "python"
  }
 },
 "nbformat": 4,
 "nbformat_minor": 5
}
